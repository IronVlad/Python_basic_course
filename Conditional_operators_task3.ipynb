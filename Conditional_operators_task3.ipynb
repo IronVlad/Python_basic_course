{
  "nbformat": 4,
  "nbformat_minor": 0,
  "metadata": {
    "colab": {
      "name": "Untitled0.ipynb",
      "provenance": [],
      "collapsed_sections": [],
      "authorship_tag": "ABX9TyMLPnFwU4M4EvZ9wAh2dBSB",
      "include_colab_link": true
    },
    "kernelspec": {
      "name": "python3",
      "display_name": "Python 3"
    },
    "language_info": {
      "name": "python"
    }
  },
  "cells": [
    {
      "cell_type": "markdown",
      "metadata": {
        "id": "view-in-github",
        "colab_type": "text"
      },
      "source": [
        "<a href=\"https://colab.research.google.com/github/IronVlad/Python_basic_course/blob/main/Conditional_operators_task3.ipynb\" target=\"_parent\"><img src=\"https://colab.research.google.com/assets/colab-badge.svg\" alt=\"Open In Colab\"/></a>"
      ]
    },
    {
      "cell_type": "code",
      "metadata": {
        "id": "i9fCj0wCSQG_"
      },
      "source": [
        "a = int(input())\n",
        "b = int(input())\n",
        "c = int(input())\n",
        "\n",
        "if a == b and b == c and a == c:\n",
        "    print(3)\n",
        "elif (a == b or a == c) or b == c:\n",
        "    print(2)\n",
        "else:\n",
        "    print(0)"
      ],
      "execution_count": null,
      "outputs": []
    }
  ]
}